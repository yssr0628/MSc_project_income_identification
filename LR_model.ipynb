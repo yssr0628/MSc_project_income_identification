{
 "cells": [
  {
   "cell_type": "code",
   "execution_count": 1,
   "metadata": {
    "_cell_guid": "b1076dfc-b9ad-4769-8c92-a6c4dae69d19",
    "_uuid": "8f2839f25d086af736a60e9eeb907d3b93b6e0e5"
   },
   "outputs": [
    {
     "name": "stdout",
     "output_type": "stream",
     "text": [
      "[nltk_data] Downloading package wordnet to /usr/share/nltk_data...\n",
      "[nltk_data]   Package wordnet is already up-to-date!\n",
      "[nltk_data] Downloading package averaged_perceptron_tagger to\n",
      "[nltk_data]     /usr/share/nltk_data...\n",
      "[nltk_data]   Package averaged_perceptron_tagger is already up-to-\n",
      "[nltk_data]       date!\n"
     ]
    }
   ],
   "source": [
    "import pandas as pd \n",
    "from collections import Counter\n",
    "import numpy as np\n",
    "from matplotlib import pyplot as plt\n",
    "import seaborn as sns\n",
    "from scipy import stats\n",
    "from sklearn.model_selection import train_test_split\n",
    "from sklearn.metrics import roc_auc_score,accuracy_score,classification_report,confusion_matrix,mean_squared_error,roc_curve\n",
    "import lightgbm as lgb\n",
    "from wordcloud import WordCloud\n",
    "import nltk\n",
    "nltk.download(\"wordnet\")\n",
    "nltk.download(\"averaged_perceptron_tagger\")\n",
    "from nltk.stem import WordNetLemmatizer\n",
    "from sklearn.feature_extraction.text import TfidfVectorizer\n",
    "from nltk.tokenize import word_tokenize\n",
    "from nltk.text import TextCollection"
   ]
  },
  {
   "cell_type": "code",
   "execution_count": 2,
   "metadata": {},
   "outputs": [],
   "source": [
    "def reduce_memory(df):\n",
    "    \"\"\"Reduce memory usage of a dataframe by setting data types. \"\"\"\n",
    "    start_mem = df.memory_usage().sum() / 1024 ** 2\n",
    "    print('Initial df memory usage is {:.2f} MB for {} columns'\n",
    "          .format(start_mem, len(df.columns)))\n",
    "\n",
    "    for col in df.columns:\n",
    "        col_type = df[col].dtypes\n",
    "        if col_type != object:\n",
    "            cmin = df[col].min()\n",
    "            cmax = df[col].max()\n",
    "            if str(col_type)[:3] == 'int':\n",
    "                # Can use unsigned int here too\n",
    "                if cmin > np.iinfo(np.int8).min and cmax < np.iinfo(np.int8).max:\n",
    "                    df[col] = df[col].astype(np.int8)\n",
    "                elif cmin > np.iinfo(np.int16).min and cmax < np.iinfo(np.int16).max:\n",
    "                    df[col] = df[col].astype(np.int16)\n",
    "                elif cmin > np.iinfo(np.int32).min and cmax < np.iinfo(np.int32).max:\n",
    "                    df[col] = df[col].astype(np.int32)\n",
    "                elif cmin > np.iinfo(np.int64).min and cmax < np.iinfo(np.int64).max:\n",
    "                    df[col] = df[col].astype(np.int64)\n",
    "            elif str(col_type)[:5] == 'float':\n",
    "                if cmin > np.finfo(np.float16).min and cmax < np.finfo(np.float16).max:\n",
    "                    df[col] = df[col].astype(np.float16)\n",
    "                elif cmin > np.finfo(np.float32).min and cmax < np.finfo(np.float32).max:\n",
    "                    df[col] = df[col].astype(np.float32)\n",
    "                else:\n",
    "                    df[col] = df[col].astype(np.float64)\n",
    "    end_mem = df.memory_usage().sum() / 1024 ** 2\n",
    "    memory_reduction = 100 * (start_mem - end_mem) / start_mem\n",
    "    print('Final memory usage is: {:.2f} MB - decreased by {:.1f}%'.format(end_mem, memory_reduction))\n",
    "    return df"
   ]
  },
  {
   "cell_type": "code",
   "execution_count": 3,
   "metadata": {
    "_cell_guid": "79c7e3d0-c299-4dcb-8224-4455121ee9b0",
    "_uuid": "d629ff2d2480ee46fbb7e2d37f6b5fab8052498a"
   },
   "outputs": [
    {
     "name": "stdout",
     "output_type": "stream",
     "text": [
      "Initial df memory usage is 215.62 MB for 18 columns\n",
      "Final memory usage is: 160.22 MB - decreased by 25.7%\n"
     ]
    }
   ],
   "source": [
    "main_credit_data = pd.read_csv('../input/modified-credit-main-data/modified_credit_main_data.csv')\n",
    "main_credit_data = reduce_memory(main_credit_data)\n",
    "main_credit_data = main_credit_data.rename(columns=lambda x: x.replace(' ', '_'))\n",
    "main_credit_data['Auto_Purpose_Tag_Name'] = main_credit_data['Auto_Purpose_Tag_Name'].str.lower()\n",
    "main_credit_data.loc[main_credit_data['Auto_Purpose_Tag_Name']!='salary or wages (main)','Auto_Purpose_Tag_Name']=0\n",
    "main_credit_data.loc[main_credit_data['Auto_Purpose_Tag_Name']=='salary or wages (main)','Auto_Purpose_Tag_Name']=1\n",
    "main_credit_data['Year_of_Birth'] = main_credit_data['Year_of_Birth'].fillna(float(main_credit_data['Year_of_Birth'].median()))\n",
    "main_credit_data['Year_of_Birth'] = main_credit_data['Year_of_Birth'].apply(lambda x: float(main_credit_data['Year_of_Birth'].median()) if x <= float(1939.0) else x)\n",
    "main_credit_data.drop('t_month',axis=1,inplace=True)"
   ]
  },
  {
   "cell_type": "code",
   "execution_count": 4,
   "metadata": {},
   "outputs": [
    {
     "data": {
      "text/plain": [
       "\"#undersampling\\ncount_class_0, count_class_1 = main_credit_data.Auto_Purpose_Tag_Name.value_counts()\\nfrom sklearn.utils import shuffle\\n# Divide by class\\ndf_class_0 = main_credit_data[main_credit_data['Auto_Purpose_Tag_Name'] == 0]\\ndf_class_1 = main_credit_data[main_credit_data['Auto_Purpose_Tag_Name'] == 1]\\ndf_class_0_under = df_class_0.sample(count_class_1)\\nunder_sampling_train = pd.concat([df_class_0_under, df_class_1], axis=0)\\nmain_credit_data= shuffle(under_sampling_train)\\n#X_train = under_sampling_data.drop('Auto_Purpose_Tag_Name',axis=1)\\n\""
      ]
     },
     "execution_count": 4,
     "metadata": {},
     "output_type": "execute_result"
    }
   ],
   "source": [
    "'''#undersampling\n",
    "count_class_0, count_class_1 = main_credit_data.Auto_Purpose_Tag_Name.value_counts()\n",
    "from sklearn.utils import shuffle\n",
    "# Divide by class\n",
    "df_class_0 = main_credit_data[main_credit_data['Auto_Purpose_Tag_Name'] == 0]\n",
    "df_class_1 = main_credit_data[main_credit_data['Auto_Purpose_Tag_Name'] == 1]\n",
    "df_class_0_under = df_class_0.sample(count_class_1)\n",
    "under_sampling_train = pd.concat([df_class_0_under, df_class_1], axis=0)\n",
    "main_credit_data= shuffle(under_sampling_train)\n",
    "#X_train = under_sampling_data.drop('Auto_Purpose_Tag_Name',axis=1)\n",
    "'''"
   ]
  },
  {
   "cell_type": "markdown",
   "metadata": {},
   "source": [
    "'''#oversampling\n",
    "count_class_0, count_class_1 = main_credit_data.Auto_Purpose_Tag_Name.value_counts()\n",
    "df_class_0 = main_credit_data[main_credit_data['Auto_Purpose_Tag_Name'] == 0]\n",
    "df_class_1 = main_credit_data[main_credit_data['Auto_Purpose_Tag_Name'] == 1]\n",
    "from sklearn.utils import shuffle\n",
    "df_class_1_over = df_class_1.sample(count_class_0, replace=True)\n",
    "over_sampling_data = pd.concat([df_class_0, df_class_1_over], axis=0)\n",
    "main_credit_data= shuffle(over_sampling_data)\n",
    "’‘’"
   ]
  },
  {
   "cell_type": "code",
   "execution_count": 5,
   "metadata": {},
   "outputs": [
    {
     "name": "stdout",
     "output_type": "stream",
     "text": [
      "Initial df memory usage is 77.82 MB for 17 columns\n",
      "Final memory usage is: 60.65 MB - decreased by 22.1%\n"
     ]
    }
   ],
   "source": [
    "test_data = pd.read_csv('../input/final-test-data/final_test_data.csv')\n",
    "test_data = reduce_memory(test_data)\n",
    "test_data = test_data.rename(columns=lambda x: x.replace(' ', '_'))\n",
    "test_data['Auto_Purpose_Tag_Name'] = test_data['Auto_Purpose_Tag_Name'].str.lower()\n",
    "test_data.loc[test_data['Auto_Purpose_Tag_Name']!='salary or wages (main)','Auto_Purpose_Tag_Name']=0\n",
    "test_data.loc[test_data['Auto_Purpose_Tag_Name']=='salary or wages (main)','Auto_Purpose_Tag_Name']=1\n",
    "test_data['Year_of_Birth'] = test_data['Year_of_Birth'].fillna(float(test_data['Year_of_Birth'].median()))\n",
    "test_data['Year_of_Birth'] = test_data['Year_of_Birth'].apply(lambda x: test_data['Year_of_Birth'].median() if x <= float(1939.0) else x)"
   ]
  },
  {
   "cell_type": "code",
   "execution_count": 6,
   "metadata": {},
   "outputs": [],
   "source": [
    "main_credit_data['Transaction_Date'] = pd.to_datetime(main_credit_data['Transaction_Date'])\n",
    "main_credit_data['Transaction_Month'],main_credit_data['Transaction_Day'],main_credit_data['Transaction_Weekday'],main_credit_data['Transaction_weekday_name']= main_credit_data['Transaction_Date'].dt.month,main_credit_data['Transaction_Date'].dt.day,main_credit_data['Transaction_Date'].dt.weekday,main_credit_data['Transaction_Date'].dt.weekday_name\n",
    "#X_val['Transaction_Date'] = pd.to_datetime(X_val['Transaction_Date'])\n",
    "#X_val['t_month'],X_val['t_day'],X_val['t_weekday'],X_val['t_weekday_name']= X_val['Transaction_Date'].dt.month,X_val['Transaction_Date'].dt.day,X_val['Transaction_Date'].dt.weekday,X_val['Transaction_Date'].dt.weekday_name\n",
    "test_data['Transaction_Date'] = pd.to_datetime(test_data['Transaction_Date'])\n",
    "test_data['Transaction_Month'],test_data['Transaction_Day'],test_data['Transaction_Weekday'],test_data['Transaction_weekday_name']= test_data['Transaction_Date'].dt.month,test_data['Transaction_Date'].dt.day,test_data['Transaction_Date'].dt.weekday,test_data['Transaction_Date'].dt.weekday_name"
   ]
  },
  {
   "cell_type": "code",
   "execution_count": 7,
   "metadata": {},
   "outputs": [
    {
     "name": "stderr",
     "output_type": "stream",
     "text": [
      "/opt/conda/lib/python3.6/site-packages/sklearn/linear_model/logistic.py:432: FutureWarning: Default solver will be changed to 'lbfgs' in 0.22. Specify a solver to silence this warning.\n",
      "  FutureWarning)\n",
      "/opt/conda/lib/python3.6/site-packages/sklearn/externals/six.py:31: DeprecationWarning: The module is deprecated in version 0.21 and will be removed in version 0.23 since we've dropped support for Python 2.7. Please rely on the official version of six (https://pypi.org/project/six/).\n",
      "  \"(https://pypi.org/project/six/).\", DeprecationWarning)\n",
      "/opt/conda/lib/python3.6/site-packages/sklearn/externals/joblib/__init__.py:15: DeprecationWarning: sklearn.externals.joblib is deprecated in 0.21 and will be removed in 0.23. Please import this functionality directly from joblib, which can be installed with: pip install joblib. If this warning is raised when loading pickled models, you may need to re-serialize those models with scikit-learn 0.21+.\n",
      "  warnings.warn(msg, category=DeprecationWarning)\n"
     ]
    }
   ],
   "source": [
    "vectorizer = TfidfVectorizer(analyzer='word',token_pattern=r'\\w{1,}',min_df=5,sublinear_tf=True)\n",
    "text = vectorizer.fit_transform(main_credit_data['Transaction_Description'])\n",
    "from sklearn.linear_model import LogisticRegression\n",
    "lr = LogisticRegression()\n",
    "lr.fit(text,main_credit_data['Auto_Purpose_Tag_Name'])\n",
    "import eli5\n",
    "weight_results = eli5.explain_weights_df(lr,vec = vectorizer,top=50,feature_filter = lambda x:x!='<BIAS>')\n",
    "words_1 = np.array(weight_results['feature'][31:50])\n",
    "words = np.append(words_1,weight_results['feature'].tolist()[0])"
   ]
  },
  {
   "cell_type": "code",
   "execution_count": 8,
   "metadata": {},
   "outputs": [
    {
     "name": "stdout",
     "output_type": "stream",
     "text": [
      "User_Reference                                        0.010395\n",
      "User_Reference^2                                      0.012574\n",
      "User_Reference^3                                      0.013335\n",
      "Transaction_Weekday^3                                 0.066661\n",
      "Transaction_Weekday^2 User_Reference                  0.102186\n",
      "Transaction_Weekday User_Reference^2                  0.121924\n",
      "Transaction_Weekday^2                                 0.122097\n",
      "Transaction_Weekday User_Reference                    0.139460\n",
      "Transaction_Day User_Reference^2                      0.152343\n",
      "Amount^3                                              0.161378\n",
      "Transaction_Weekday                                   0.177631\n",
      "Transaction_Day User_Reference                        0.180833\n",
      "Transaction_Day^2 User_Reference                      0.211715\n",
      "Transaction_Day Transaction_Weekday^2                 0.212918\n",
      "Transaction_Day Transaction_Weekday User_Reference    0.227098\n",
      "Amount^2 User_Reference                               0.251305\n",
      "Transaction_Day                                       0.270787\n",
      "Amount^2 Transaction_Weekday                          0.272797\n",
      "Transaction_Day^3                                     0.273547\n",
      "Transaction_Day^2                                     0.278537\n",
      "Transaction_Day Transaction_Weekday                   0.282904\n",
      "Transaction_Day^2 Transaction_Weekday                 0.291348\n",
      "Amount^2                                              0.300826\n",
      "Amount^2 Transaction_Day                              0.343581\n",
      "Amount Transaction_Weekday^2                          0.392751\n",
      "Amount User_Reference^2                               0.393204\n",
      "Amount Transaction_Weekday User_Reference             0.395273\n",
      "Amount User_Reference                                 0.436722\n",
      "Amount Transaction_Weekday                            0.472495\n",
      "Amount Transaction_Day User_Reference                 0.477646\n",
      "Amount Transaction_Day Transaction_Weekday            0.505911\n",
      "Amount                                                0.529895\n",
      "Amount Transaction_Day^2                              0.558741\n",
      "Amount Transaction_Day                                0.573616\n",
      "Auto_Purpose_Tag_Name                                 1.000000\n",
      "1                                                          NaN\n",
      "Name: Auto_Purpose_Tag_Name, dtype: float64\n"
     ]
    }
   ],
   "source": [
    "poly_features = main_credit_data[['Amount', 'Transaction_Day','Transaction_Weekday', 'User_Reference', 'Auto_Purpose_Tag_Name']]\n",
    "poly_features_test = test_data[['Amount', 'Transaction_Day','Transaction_Weekday', 'User_Reference']]\n",
    "poly_target = poly_features['Auto_Purpose_Tag_Name']\n",
    "poly_features = poly_features.drop(columns = ['Auto_Purpose_Tag_Name'])\n",
    "from sklearn.preprocessing import PolynomialFeatures\n",
    "# Create the polynomial object with specified degree\n",
    "poly_transformer = PolynomialFeatures(degree = 3)\n",
    "poly_transformer.fit(poly_features)\n",
    "# Transform the features\n",
    "poly_features = poly_transformer.transform(poly_features)\n",
    "poly_features_test = poly_transformer.transform(poly_features_test)\n",
    "poly_features = pd.DataFrame(poly_features, \n",
    "                             columns = poly_transformer.get_feature_names(['Amount', 'Transaction_Day','Transaction_Weekday', 'User_Reference']))\n",
    "poly_features['Auto_Purpose_Tag_Name'] = poly_target\n",
    "poly_corrs = poly_features.corr()['Auto_Purpose_Tag_Name'].sort_values()\n",
    "print(poly_corrs)\n",
    "poly_features_test = pd.DataFrame(poly_features_test, \n",
    "                                  columns = poly_transformer.get_feature_names(['Amount', 'Transaction_Day','Transaction_Weekday', 'User_Reference']))"
   ]
  },
  {
   "cell_type": "code",
   "execution_count": 9,
   "metadata": {},
   "outputs": [],
   "source": [
    "column_names = poly_corrs.reset_index().tail(12)['index'].tolist()[:10]\n",
    "previous_columns = main_credit_data.columns.tolist()\n",
    "columns = list(set(column_names).difference(set(previous_columns))) \n",
    "for column in columns:\n",
    "    main_credit_data['poly_'+column] = poly_features[column]\n",
    "    test_data['poly_'+column] = poly_features_test[column]"
   ]
  },
  {
   "cell_type": "code",
   "execution_count": 10,
   "metadata": {},
   "outputs": [],
   "source": [
    "y_train = main_credit_data['Auto_Purpose_Tag_Name']\n",
    "X_train = main_credit_data.drop('Auto_Purpose_Tag_Name',axis=1)\n",
    "y_test = test_data['Auto_Purpose_Tag_Name']\n",
    "X_test = test_data.drop('Auto_Purpose_Tag_Name',axis=1)"
   ]
  },
  {
   "cell_type": "code",
   "execution_count": 11,
   "metadata": {},
   "outputs": [],
   "source": [
    "year_of_birth = X_train['Year_of_Birth'].unique()\n",
    "for ye in year_of_birth:\n",
    "    X_train['year_'+str(ye)] = X_train['Year_of_Birth'].apply(lambda x: 1 if ye==x else 0)\n",
    "    # X_val['year_'+str(ye)] = X_val['Year_of_Birth'].apply(lambda x: 1 if ye==x else 0)\n",
    "    X_test['year_'+str(ye)] = X_test['Year_of_Birth'].apply(lambda x: 1 if ye==x else 0)\n",
    "\n",
    "X_train.drop('Salary_Range',axis=1,inplace=True)\n",
    "#X_val.drop('Salary_Range',axis=1,inplace=True)\n",
    "X_test.drop('Salary_Range',axis=1,inplace=True)\n",
    "\n",
    "gender = X_train['Derived_Gender'].unique()\n",
    "for ge in gender:\n",
    "    X_train['gender_'+ge] =  X_train['Derived_Gender'].apply(lambda x: 1 if ge in x else 0)\n",
    "    #X_val['gender_'+ge] =  X_train['Derived_Gender'].apply(lambda x: 1 if ge in x else 0)\n",
    "    X_test['gender_'+ge] =  X_test['Derived_Gender'].apply(lambda x: 1 if ge in x else 0)"
   ]
  },
  {
   "cell_type": "code",
   "execution_count": 12,
   "metadata": {},
   "outputs": [],
   "source": [
    "providers = X_train['Provider_Group_Name'].unique()\n",
    "for pr in providers:\n",
    "    X_train['provider_'+pr] = X_train['Provider_Group_Name'].apply(lambda x: 1 if pr in x else 0)\n",
    "    #X_val['provider_'+pr] = X_val['Provider_Group_Name'].apply(lambda x: 1 if pr in x else 0)\n",
    "    X_test['provider_'+pr] = X_test['Provider_Group_Name'].apply(lambda x: 1 if pr in x else 0)\n",
    "\n",
    "account_type=  X_train['Account_Type'].unique()\n",
    "for ac in account_type:\n",
    "    X_train[ac+'_account'] =  X_train['Account_Type'].apply(lambda x: 1 if ac in x else 0)\n",
    "    #X_val[ac+'_account'] =  X_val['Account_Type'].apply(lambda x: 1 if ac in x else 0)\n",
    "    X_test[ac+'_account'] =  X_test['Account_Type'].apply(lambda x: 1 if ac in x else 0)\n",
    "    \n",
    "# Credit_Debit \n",
    "X_train.drop('Credit_Debit',axis=1,inplace=True)\n",
    "#X_val.drop('Credit_Debit',axis=1,inplace=True)\n",
    "X_test.drop('Credit_Debit',axis=1,inplace=True)"
   ]
  },
  {
   "cell_type": "code",
   "execution_count": 13,
   "metadata": {},
   "outputs": [],
   "source": [
    "for word in words:\n",
    "    X_train['word_'+str(word)] = X_train['Transaction_Description'].apply(lambda x: 1 if word in x else 0)\n",
    "    # X_val['year_'+str(ye)] = X_val['Year_of_Birth'].apply(lambda x: 1 if ye==x else 0)\n",
    "    X_test['word_'+str(word)] = X_test['Transaction_Description'].apply(lambda x: 1 if word in x else 0)"
   ]
  },
  {
   "cell_type": "code",
   "execution_count": 14,
   "metadata": {},
   "outputs": [],
   "source": [
    "mbls = X_train['Merchant_Business_Line'].value_counts().head(20).reset_index()['index'].tolist()\n",
    "for mbl in mbls:\n",
    "    X_train['Merchant_Business_Line_'+mbl] = X_train['Merchant_Business_Line'].apply(lambda x: 1 if mbl in x else 0)\n",
    "    #X_val['Merchant_Business_Line_'+mbl] = X_val['Merchant_Business_Line'].apply(lambda x: 1 if mbl in x else 0)\n",
    "    X_test['Merchant_Business_Line_'+mbl] = X_test['Merchant_Business_Line'].apply(lambda x: 1 if mbl in x else 0)"
   ]
  },
  {
   "cell_type": "code",
   "execution_count": 15,
   "metadata": {},
   "outputs": [],
   "source": [
    "main_credit_data['Number_of_similar_transactions']=main_credit_data['Number_of_similar_transactions'].apply(lambda x: 12 if x>12 else x)\n",
    "test_data['Number_of_similar_transactions']=test_data['Number_of_similar_transactions'].apply(lambda x: 12 if x>12 else x)\n",
    "X_train['Number_of_similar_transactions']=main_credit_data['Number_of_similar_transactions']\n",
    "X_test['Number_of_similar_transactions']=test_data['Number_of_similar_transactions']\n",
    "#X_train.drop(['Number_of_similar_transactions'],inplace=True, axis=1)\n",
    "#X_test.drop(['Number_of_similar_transactions'],inplace=True, axis=1)"
   ]
  },
  {
   "cell_type": "code",
   "execution_count": 16,
   "metadata": {},
   "outputs": [],
   "source": [
    "X_train.drop(['Unnamed:_0','Account_Reference','Merchant_Business_Line','Year_of_Birth','Derived_Gender','Account_Type','Provider_Group_Name','Manual_Tag_Name','Merchant_Name','Transaction_Date','Transaction_Description','Transaction_weekday_name'],axis=1,inplace=True)\n",
    "#X_val.drop(['Account_Reference','Merchant_Business_Line','Year_of_Birth','Derived_Gender','Account_Type','Provider_Group_Name','Manual_Tag_Name','Merchant_Name','Transaction_Date','Transaction_Description','t_weekday_name'],axis=1,inplace=True)\n",
    "X_test.drop(['Unnamed:_0','Account_Reference','Merchant_Business_Line','Year_of_Birth','Derived_Gender','Account_Type','Provider_Group_Name','Manual_Tag_Name','Merchant_Name','Transaction_Date','Transaction_Description','Transaction_weekday_name'],axis=1,inplace=True)"
   ]
  },
  {
   "cell_type": "code",
   "execution_count": 17,
   "metadata": {},
   "outputs": [],
   "source": [
    "X_train.drop(['poly_Amount User_Reference','poly_Amount Transaction_Weekday^2','poly_Amount Transaction_Day^2','poly_Amount Transaction_Day User_Reference','poly_Amount Transaction_Weekday User_Reference','poly_Amount Transaction_Day Transaction_Weekday','poly_Amount Transaction_Day','poly_Amount User_Reference^2'],axis=1,inplace=True)\n",
    "X_test.drop(['poly_Amount User_Reference','poly_Amount Transaction_Weekday^2','poly_Amount Transaction_Day^2','poly_Amount Transaction_Day User_Reference','poly_Amount Transaction_Weekday User_Reference','poly_Amount Transaction_Day Transaction_Weekday','poly_Amount Transaction_Day','poly_Amount User_Reference^2'],axis=1,inplace=True)"
   ]
  },
  {
   "cell_type": "code",
   "execution_count": 18,
   "metadata": {},
   "outputs": [
    {
     "data": {
      "text/plain": [
       "308"
      ]
     },
     "execution_count": 18,
     "metadata": {},
     "output_type": "execute_result"
    }
   ],
   "source": [
    "import gc\n",
    "del main_credit_data,test_data\n",
    "gc.collect()"
   ]
  },
  {
   "cell_type": "code",
   "execution_count": 19,
   "metadata": {},
   "outputs": [],
   "source": [
    "from sklearn import preprocessing\n",
    "normalizer = preprocessing.Normalizer().fit(X_train)\n",
    "LR_X_train = normalizer.transform(X_train)   \n",
    "LR_X_test = normalizer.transform(X_test)  "
   ]
  },
  {
   "cell_type": "code",
   "execution_count": 20,
   "metadata": {},
   "outputs": [
    {
     "name": "stderr",
     "output_type": "stream",
     "text": [
      "/opt/conda/lib/python3.6/site-packages/sklearn/linear_model/sag.py:337: ConvergenceWarning: The max_iter was reached which means the coef_ did not converge\n",
      "  \"the coef_ did not converge\", ConvergenceWarning)\n"
     ]
    }
   ],
   "source": [
    "from sklearn.linear_model import LogisticRegression \n",
    "clf_X = LogisticRegression(C=229.105,random_state=0, solver='sag',class_weight='balanced').fit(LR_X_train, y_train)\n",
    "logist_y_pred = clf_X.predict_proba(LR_X_test)[:,1]"
   ]
  },
  {
   "cell_type": "code",
   "execution_count": 21,
   "metadata": {},
   "outputs": [
    {
     "data": {
      "text/plain": [
       "0.870822735598282"
      ]
     },
     "execution_count": 21,
     "metadata": {},
     "output_type": "execute_result"
    }
   ],
   "source": [
    "from sklearn.metrics import roc_auc_score\n",
    "auc_lr = roc_auc_score(y_test,logist_y_pred)\n",
    "auc_lr"
   ]
  },
  {
   "cell_type": "code",
   "execution_count": 22,
   "metadata": {},
   "outputs": [
    {
     "name": "stdout",
     "output_type": "stream",
     "text": [
      "              precision    recall  f1-score   support\n",
      "\n",
      "           0       0.87      0.93      0.90    480668\n",
      "           1       0.62      0.46      0.53    119332\n",
      "\n",
      "    accuracy                           0.84    600000\n",
      "   macro avg       0.75      0.70      0.72    600000\n",
      "weighted avg       0.82      0.84      0.83    600000\n",
      "\n"
     ]
    }
   ],
   "source": [
    "print(classification_report(y_test,logist_y_pred.round()))"
   ]
  },
  {
   "cell_type": "code",
   "execution_count": 23,
   "metadata": {},
   "outputs": [
    {
     "data": {
      "image/png": "[encoded data removed]",
      "text/plain": [
       "<Figure size 576x432 with 2 Axes>"
      ]
     },
     "metadata": {
      "needs_background": "light"
     },
     "output_type": "display_data"
    }
   ],
   "source": [
    "f, ax=plt.subplots(figsize = (8,6))\n",
    "sns.set(font_scale=1.2)\n",
    "cm = confusion_matrix(y_test, logist_y_pred.round())\n",
    "sns.heatmap(cm,annot=True,cmap=\"Blues\",fmt=\"d\",cbar=True,vmin=0,vmax=500000)\n",
    "plt.title('Confusion Matrix of Logistic Regression model',fontsize=18)\n",
    "ax.tick_params(labelsize=14)\n"
   ]
  },
  {
   "cell_type": "code",
   "execution_count": 24,
   "metadata": {},
   "outputs": [
    {
     "name": "stderr",
     "output_type": "stream",
     "text": [
      "/opt/conda/lib/python3.6/site-packages/tensorflow/python/framework/dtypes.py:516: FutureWarning: Passing (type, 1) or '1type' as a synonym of type is deprecated; in a future version of numpy, it will be understood as (type, (1,)) / '(1,)type'.\n",
      "  _np_qint8 = np.dtype([(\"qint8\", np.int8, 1)])\n",
      "/opt/conda/lib/python3.6/site-packages/tensorflow/python/framework/dtypes.py:517: FutureWarning: Passing (type, 1) or '1type' as a synonym of type is deprecated; in a future version of numpy, it will be understood as (type, (1,)) / '(1,)type'.\n",
      "  _np_quint8 = np.dtype([(\"quint8\", np.uint8, 1)])\n",
      "/opt/conda/lib/python3.6/site-packages/tensorflow/python/framework/dtypes.py:518: FutureWarning: Passing (type, 1) or '1type' as a synonym of type is deprecated; in a future version of numpy, it will be understood as (type, (1,)) / '(1,)type'.\n",
      "  _np_qint16 = np.dtype([(\"qint16\", np.int16, 1)])\n",
      "/opt/conda/lib/python3.6/site-packages/tensorflow/python/framework/dtypes.py:519: FutureWarning: Passing (type, 1) or '1type' as a synonym of type is deprecated; in a future version of numpy, it will be understood as (type, (1,)) / '(1,)type'.\n",
      "  _np_quint16 = np.dtype([(\"quint16\", np.uint16, 1)])\n",
      "/opt/conda/lib/python3.6/site-packages/tensorflow/python/framework/dtypes.py:520: FutureWarning: Passing (type, 1) or '1type' as a synonym of type is deprecated; in a future version of numpy, it will be understood as (type, (1,)) / '(1,)type'.\n",
      "  _np_qint32 = np.dtype([(\"qint32\", np.int32, 1)])\n",
      "/opt/conda/lib/python3.6/site-packages/tensorflow/python/framework/dtypes.py:525: FutureWarning: Passing (type, 1) or '1type' as a synonym of type is deprecated; in a future version of numpy, it will be understood as (type, (1,)) / '(1,)type'.\n",
      "  np_resource = np.dtype([(\"resource\", np.ubyte, 1)])\n",
      "/opt/conda/lib/python3.6/site-packages/tensorboard/compat/tensorflow_stub/dtypes.py:541: FutureWarning: Passing (type, 1) or '1type' as a synonym of type is deprecated; in a future version of numpy, it will be understood as (type, (1,)) / '(1,)type'.\n",
      "  _np_qint8 = np.dtype([(\"qint8\", np.int8, 1)])\n",
      "/opt/conda/lib/python3.6/site-packages/tensorboard/compat/tensorflow_stub/dtypes.py:542: FutureWarning: Passing (type, 1) or '1type' as a synonym of type is deprecated; in a future version of numpy, it will be understood as (type, (1,)) / '(1,)type'.\n",
      "  _np_quint8 = np.dtype([(\"quint8\", np.uint8, 1)])\n",
      "/opt/conda/lib/python3.6/site-packages/tensorboard/compat/tensorflow_stub/dtypes.py:543: FutureWarning: Passing (type, 1) or '1type' as a synonym of type is deprecated; in a future version of numpy, it will be understood as (type, (1,)) / '(1,)type'.\n",
      "  _np_qint16 = np.dtype([(\"qint16\", np.int16, 1)])\n",
      "/opt/conda/lib/python3.6/site-packages/tensorboard/compat/tensorflow_stub/dtypes.py:544: FutureWarning: Passing (type, 1) or '1type' as a synonym of type is deprecated; in a future version of numpy, it will be understood as (type, (1,)) / '(1,)type'.\n",
      "  _np_quint16 = np.dtype([(\"quint16\", np.uint16, 1)])\n",
      "/opt/conda/lib/python3.6/site-packages/tensorboard/compat/tensorflow_stub/dtypes.py:545: FutureWarning: Passing (type, 1) or '1type' as a synonym of type is deprecated; in a future version of numpy, it will be understood as (type, (1,)) / '(1,)type'.\n",
      "  _np_qint32 = np.dtype([(\"qint32\", np.int32, 1)])\n",
      "/opt/conda/lib/python3.6/site-packages/tensorboard/compat/tensorflow_stub/dtypes.py:550: FutureWarning: Passing (type, 1) or '1type' as a synonym of type is deprecated; in a future version of numpy, it will be understood as (type, (1,)) / '(1,)type'.\n",
      "  np_resource = np.dtype([(\"resource\", np.ubyte, 1)])\n"
     ]
    }
   ],
   "source": [
    "LR_test = pd.DataFrame(columns = ['y_test','y_pred'])\n",
    "LR_test['y_test'] = y_test\n",
    "LR_test['y_pred'] = logist_y_pred\n",
    "LR_test.to_csv('LR_test.csv',index=False)"
   ]
  },
  {
   "cell_type": "markdown",
   "metadata": {},
   "source": [
    "'''plt.rcParams['figure.figsize']=(12,7)\n",
    "plt.style.use(\"fivethirtyeight\")\n",
    "#fpr_wl, tpr_wl, thresholds_keras_wl = roc_curve(y_test,logist_y_pred_without_L)\n",
    "fpr, tpr, thresholds = roc_curve(y_test,logist_y_pred)\n",
    "#auc_lr_wl = roc_auc_score(y_test,logist_y_pred_without_L)\n",
    "auc_lr = roc_auc_score(y_test,logist_y_pred)\n",
    "#print(\"The AUC of LR model without L_distance feature: \", auc_lr_wl)\n",
    "print(\"The AUC of LR model using initial features: \", auc_lr)\n",
    "plt.figure()\n",
    "plt.plot([0, 1], [0, 1], 'k--')\n",
    "#plt.plot(fpr_wl, tpr_wl, label='LR without L_distance(area = {:.3f})'.format(auc_lr_wl))\n",
    "plt.plot(fpr, tpr, label='area = {:.3f}'.format(auc_lr))\n",
    "plt.xlabel('False positive rate')\n",
    "plt.ylabel('True positive rate')\n",
    "plt.title('ROC curve of Logistic Regression model all selected features')\n",
    "plt.legend(loc='best')\n",
    "'''"
   ]
  },
  {
   "cell_type": "markdown",
   "metadata": {},
   "source": [
    "'''plt.rcParams['figure.figsize']=(5,5)\n",
    "plt.style.use(\"fivethirtyeight\")\n",
    "cm = confusion_matrix(y_test, logist_y_pred.round())\n",
    "sns.heatmap(cm,annot=True,cmap=\"Blues\",fmt=\"d\",cbar=False)\n",
    "#plt.xlabel('False positive rate')\n",
    "#plt.ylabel('True positive rate')\n",
    "plt.title('Confusion Matrix of Logistic Regression model using all selected features',fontsize=15)\n",
    "#plt.legend(loc='best')\n",
    "'''"
   ]
  },
  {
   "cell_type": "markdown",
   "metadata": {},
   "source": [
    "'''from sklearn.model_selection import RandomizedSearchCV\n",
    "from sklearn.linear_model import LogisticRegression \n",
    "'''"
   ]
  },
  {
   "cell_type": "markdown",
   "metadata": {},
   "source": [
    "'''import gc\n",
    "del X_train,X_test\n",
    "gc.collect()\n",
    "'''"
   ]
  },
  {
   "cell_type": "markdown",
   "metadata": {},
   "source": [
    "'''tuned_parameters={'C':stats.expon(scale=100)}\n",
    "clf=RandomizedSearchCV(LogisticRegression(penalty='l2',solver='sag',class_weight='balanced',max_iter=500 ),\n",
    "                   tuned_parameters,cv=3,scoring='roc_auc',n_iter=50)\n",
    " \n",
    "clf.fit(LR_X_train,y_train)\n",
    "print('best parameters:',clf.best_estimator_)\n",
    "print(classification_report(y_test,clf.predict(LR_X_test)))\n",
    "print(roc_auc_score(y_test,clf.predict_proba(LR_X_test)[:,1]))\n",
    "'''\n"
   ]
  }
 ],
 "metadata": {
  "kernelspec": {
   "display_name": "Python 3",
   "language": "python",
   "name": "python3"
  },
  "language_info": {
   "codemirror_mode": {
    "name": "ipython",
    "version": 3
   },
   "file_extension": ".py",
   "mimetype": "text/x-python",
   "name": "python",
   "nbconvert_exporter": "python",
   "pygments_lexer": "ipython3",
   "version": "3.6.6"
  }
 },
 "nbformat": 4,
 "nbformat_minor": 1
}
